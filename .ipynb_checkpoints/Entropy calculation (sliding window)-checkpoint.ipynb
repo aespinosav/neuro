{
 "metadata": {
  "name": "",
  "signature": "sha256:a87554845c609de0db68eed3001f06930fc006ce1b3ec2bc08fdc9d276a67cd2"
 },
 "nbformat": 3,
 "nbformat_minor": 0,
 "worksheets": [
  {
   "cells": [
    {
     "cell_type": "heading",
     "level": 1,
     "metadata": {},
     "source": [
      "Calculating entropy with a sliding window for words"
     ]
    },
    {
     "cell_type": "markdown",
     "metadata": {},
     "source": [
      "In the other notebook we calculated $S_{\\text{noise}}$ with a jumping window. That is, we looked at word distributions for words that start at $30$ms multiples. This makes sense if we consider the whole $30$ms as a stimulus in itself, but when we are calculating H(R|S) in a way that is consistent with only the angular speed of the stimulus, it makes much more sense to consider a sliding window."
     ]
    },
    {
     "cell_type": "code",
     "collapsed": false,
     "input": [
      "from parsing import *\n",
      "spike_times = np.loadtxt(\"./data/Sfly01508SpikeTimes.txt\")\n",
      "repeated_exp = split_into_runs(spike_times, 200, 1000)\n",
      "experiments_letters = [convert_to_letters(i, 0.003, int(i[0]), 5) for i in repeated_exp]"
     ],
     "language": "python",
     "metadata": {},
     "outputs": [
      {
       "output_type": "stream",
       "stream": "stdout",
       "text": [
        "198 runs were found\n"
       ]
      }
     ],
     "prompt_number": 1
    },
    {
     "cell_type": "markdown",
     "metadata": {},
     "source": [
      "`experiment_letters` is a list of each run once it has been converted into letters. What we want to do now is to calculate $S_{\\text{noise}}$ with a sliding window for the words."
     ]
    },
    {
     "cell_type": "code",
     "collapsed": false,
     "input": [
      "def sliding_window_words(letter_array, word_length):\n",
      "    \"\"\"\n",
      "    Returns an array of all the possible words of length\n",
      "    word_length in the letter_array\n",
      "    \"\"\"\n",
      "    start=0\n",
      "    last_start=len(letter_array)/word_length #int division used on purposs\n",
      "    word_array = [letter_array[start+i:start+word_length+i] for i in range(0, last_start)]\n",
      "    return np.array(word_array)\n",
      "    "
     ],
     "language": "python",
     "metadata": {},
     "outputs": [],
     "prompt_number": 2
    },
    {
     "cell_type": "code",
     "collapsed": false,
     "input": [
      "sliding_window_experiment_words = [sliding_window_words(e, 10) for e in experiments_letters]\n",
      "sliding_window_experiment_words = np.array(sliding_window_experiment_words)"
     ],
     "language": "python",
     "metadata": {},
     "outputs": [],
     "prompt_number": 3
    },
    {
     "cell_type": "markdown",
     "metadata": {},
     "source": [
      "`sliding_window_experiment_words` is an array of arrays that contains for each run all the 10 letter words that can be made from the letter sequence that the spike train has ben codified into"
     ]
    },
    {
     "cell_type": "code",
     "collapsed": false,
     "input": [
      "np.shape(sliding_window_experiment_words)"
     ],
     "language": "python",
     "metadata": {},
     "outputs": [
      {
       "metadata": {},
       "output_type": "pyout",
       "prompt_number": 4,
       "text": [
        "(198, 166, 10)"
       ]
      }
     ],
     "prompt_number": 4
    },
    {
     "cell_type": "markdown",
     "metadata": {},
     "source": [
      "We will now generate distribution dictionaries from these words. We want to make 166 distributions of 10 letter words. Each of which is based on 198 words for a given time.\n",
      "\n",
      "What we will do is first make arrays of words for each time."
     ]
    },
    {
     "cell_type": "code",
     "collapsed": false,
     "input": [
      "time_arrays = np.array([sliding_window_experiment_words[:,i] for i in range(166)])"
     ],
     "language": "python",
     "metadata": {},
     "outputs": [],
     "prompt_number": 14
    },
    {
     "cell_type": "code",
     "collapsed": false,
     "input": [
      "np.shape(time_arrays[0])"
     ],
     "language": "python",
     "metadata": {},
     "outputs": [
      {
       "metadata": {},
       "output_type": "pyout",
       "prompt_number": 18,
       "text": [
        "(198, 10)"
       ]
      }
     ],
     "prompt_number": 18
    },
    {
     "cell_type": "markdown",
     "metadata": {},
     "source": [
      "We now want to express the words as strings instead of arrays:"
     ]
    },
    {
     "cell_type": "code",
     "collapsed": false,
     "input": [
      "time_arrays_as_strings = [[''.join(map(str, a)) for a in t] for t in time_arrays]"
     ],
     "language": "python",
     "metadata": {},
     "outputs": [],
     "prompt_number": 24
    },
    {
     "cell_type": "markdown",
     "metadata": {},
     "source": [
      "For each collection of words in time_arrays_as_strings we now want to build a distribution for the woerds."
     ]
    },
    {
     "cell_type": "code",
     "collapsed": false,
     "input": [
      "list_of_distributions = []\n",
      "for l in time_arrays_as_strings:\n",
      "    timestep_dict = {}\n",
      "    for j in l:\n",
      "        if timestep_dict.has_key(j):\n",
      "            timestep_dict[j] += 1\n",
      "        else:\n",
      "            timestep_dict[j] = 1\n",
      "    list_of_distributions.append(timestep_dict)"
     ],
     "language": "python",
     "metadata": {},
     "outputs": [],
     "prompt_number": 28
    },
    {
     "cell_type": "markdown",
     "metadata": {},
     "source": [
      "Now, the list `list_of_distributions` is a dictionary that contains (word: counts) as the key-value pairs. And we have 166 of these."
     ]
    },
    {
     "cell_type": "code",
     "collapsed": false,
     "input": [
      "len(list_of_distributions)"
     ],
     "language": "python",
     "metadata": {},
     "outputs": [
      {
       "metadata": {},
       "output_type": "pyout",
       "prompt_number": 31,
       "text": [
        "166"
       ]
      }
     ],
     "prompt_number": 31
    },
    {
     "cell_type": "markdown",
     "metadata": {},
     "source": [
      "This is what one of these dictionaries looks like:"
     ]
    },
    {
     "cell_type": "code",
     "collapsed": false,
     "input": [
      "list_of_distributions[20]"
     ],
     "language": "python",
     "metadata": {},
     "outputs": [
      {
       "metadata": {},
       "output_type": "pyout",
       "prompt_number": 32,
       "text": [
        "{'0000000000': 133,\n",
        " '0000000010': 1,\n",
        " '0000000100': 19,\n",
        " '0000001000': 37,\n",
        " '0000010000': 5,\n",
        " '0000011000': 1,\n",
        " '0000110000': 1,\n",
        " '0000111000': 1}"
       ]
      }
     ],
     "prompt_number": 32
    },
    {
     "cell_type": "code",
     "collapsed": false,
     "input": [
      "entropies = [calculate_entropy(d) for d in list_of_distributions]"
     ],
     "language": "python",
     "metadata": {},
     "outputs": [],
     "prompt_number": 33
    },
    {
     "cell_type": "code",
     "collapsed": false,
     "input": [
      "S_noise = np.average(entropies)"
     ],
     "language": "python",
     "metadata": {},
     "outputs": [],
     "prompt_number": 35
    },
    {
     "cell_type": "code",
     "collapsed": true,
     "input": [
      "S_noise"
     ],
     "language": "python",
     "metadata": {},
     "outputs": [
      {
       "metadata": {},
       "output_type": "pyout",
       "prompt_number": 36,
       "text": [
        "3.056116753638046"
       ]
      }
     ],
     "prompt_number": 36
    },
    {
     "cell_type": "markdown",
     "metadata": {},
     "source": [
      "Compare to $\\sim 2.70$ when using jumping window."
     ]
    },
    {
     "cell_type": "code",
     "collapsed": true,
     "input": [
      "np.std(entropies)"
     ],
     "language": "python",
     "metadata": {},
     "outputs": [
      {
       "metadata": {},
       "output_type": "pyout",
       "prompt_number": 41,
       "text": [
        "1.4802211609508871"
       ]
      }
     ],
     "prompt_number": 41
    },
    {
     "cell_type": "code",
     "collapsed": false,
     "input": [],
     "language": "python",
     "metadata": {},
     "outputs": []
    }
   ],
   "metadata": {}
  }
 ]
}