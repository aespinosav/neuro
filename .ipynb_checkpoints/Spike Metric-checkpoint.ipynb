{
 "metadata": {
  "name": "",
  "signature": "sha256:2163af4963a74bd9bed5054d019240e661636603ca0c7b0a9a27af7b193e4745"
 },
 "nbformat": 3,
 "nbformat_minor": 0,
 "worksheets": []
}