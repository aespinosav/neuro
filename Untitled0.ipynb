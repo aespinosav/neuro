{
 "metadata": {
  "name": "",
  "signature": "sha256:3fb3e33bf5be3d455848a2accd1514aeecfafac81f8c8f9bd3e4854ecaf9b52d"
 },
 "nbformat": 3,
 "nbformat_minor": 0,
 "worksheets": [
  {
   "cells": [
    {
     "cell_type": "markdown",
     "metadata": {},
     "source": [
      "$d(u,v)=\\sum_{i.j} \\exp(-|u_i-u_j|/\\tau)+\\sum_{i.j} \\exp(-|v_i-v_j|/\\tau)-2 \\sum_{i,j} \\exp(-|u_i-v_j|/\\tau)$"
     ]
    },
    {
     "cell_type": "markdown",
     "metadata": {},
     "source": [
      "Hi Alonso\n",
      "\n",
      "So the kernel is $\\exp(-t/\\tau)$ for $t>0$ and zero otherwise; this means that the convolved spike train is\n",
      "\n",
      "$f(t;u)= \\sum \\Theta(t-u_i) \\exp(-(t-u_i)/\\tau)$\n",
      "\n",
      "where \\Theta is the Heaviside function. As such the distance has lots of terms that look like\n",
      "\n",
      "$I=\\int_0^\\infty \\Theta(t-u)\\Theta(t-v) \\exp(-(2t-u-v)/\\tau)$\n",
      "\n",
      "for some u and v, spike times. wlog take v>u, this gives\n",
      "\n",
      "$I=\\int_v^\\infty \\exp(-(2t-u-v)/\\tau)=\\tau exp(-(2t-u-v)/tau)]_v^\\infty=\\tau \\exp(-(v-u)/\\tau)$\n",
      "\n",
      "and if $u>v$ it would have been $\\tau\\exp(-(u-v)/\\tau)$; that's where the |u-v| comes from.\n",
      "\n",
      "As for the question about the stimuli; yes, that's the idea, as for the original discretization calculation the different stimuli correspond to different chunks of the big stimulus.\n",
      "\n",
      "Let me know if this hasn't addressed your question.\n",
      "\n",
      "All the best\n"
     ]
    },
    {
     "cell_type": "code",
     "collapsed": false,
     "input": [],
     "language": "python",
     "metadata": {},
     "outputs": []
    }
   ],
   "metadata": {}
  }
 ]
}