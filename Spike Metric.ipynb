{
 "metadata": {
  "name": "",
  "signature": "sha256:3d3ce90c2bcd8c012d451169fb04ce263620d7e965e7c041ff7afc92e939d1a0"
 },
 "nbformat": 3,
 "nbformat_minor": 0,
 "worksheets": [
  {
   "cells": [
    {
     "cell_type": "heading",
     "level": 1,
     "metadata": {},
     "source": [
      "Analytic derivation for the spike train metric"
     ]
    },
    {
     "cell_type": "markdown",
     "metadata": {},
     "source": [
      "Once the spike trains have been kernelised via the map,\n",
      "\\begin{equation}\n",
      "\\mathbf{u} \\mapsto f(t;\\mathbf{u}) = \\sum_{i=1}^{m}h(t - u_i),\n",
      "\\end{equation}\n",
      "the metric on the spike train space is induced by the $L^2$ metric giving,\n",
      "\\begin{equation}\n",
      "d(\\mathbf{u}, \\mathbf{v}) = \\sqrt{\\int dt \\left[f(t; \\mathbf{u}) - f(t;\\mathbf{v}) \\right]^2}\n",
      "\\end{equation}.\n",
      "\n",
      "We will derive an analytic expression for when the exponential kernel is used, that is,\n",
      "\\begin{equation}\n",
      "h(t) = \\left\\{\n",
      "\\begin{matrix}\n",
      "0, & t < 0 \\\\\n",
      "\\dfrac{1}{\\tau} e^{-t/\\tau}, & t \\ge 0\n",
      "\\end{matrix}\n",
      "\\right.\n",
      "\\end{equation}\n",
      "\n",
      "This function can be written using the Heaviside function $\\Theta$ to avoid having to deal with the piecewise definition,\n",
      "\\begin{equation}\n",
      "h(t)= \\dfrac{1}{\\tau}\\Theta(t)e^{-t/\\tau}.\n",
      "\\end{equation}"
     ]
    },
    {
     "cell_type": "heading",
     "level": 2,
     "metadata": {},
     "source": [
      "The integrand"
     ]
    },
    {
     "cell_type": "markdown",
     "metadata": {},
     "source": [
      "To make the procedure clear we will first expand the integrand $\\left[f(t; \\mathbf{u}) - f(t;\\mathbf{v}) \\right]^2$.\n",
      "\n",
      "\\begin{equation}\n",
      "\\left[f(t; \\mathbf{u}) - f(t;\\mathbf{v}) \\right]^2 = f^2(t; \\mathbf{u}) + f^2(t; \\mathbf{v}) - 2f(t; \\mathbf{u})f(t; \\mathbf{v}).\n",
      "\\end{equation}\n",
      "\n",
      "Lets treat the sqared terms first, and since they are equivalent but for different spike trains we only have to do it once,\n",
      "\\begin{align}\n",
      "f^2(t; \\mathbf{u}) &= \\left( \\sum_{i=1}^{m} h(t -u_i)\\right)^2 \\\\\n",
      "&= \\left( \\sum_{i=1}^{m}\\dfrac{1}{\\tau}\\Theta(t - u_i)e^{-(t u_i)/\\tau} \\right)^2 \\\\\n",
      "&= \\dfrac{1}{\\tau^2}  \\left( \\sum_{i=1}^{m} \\Theta(t - u_i)e^{-(t - u_i)/\\tau} \\right) \\left( \\sum_{j=1}^{m} \\Theta(t - u_j)e^{-(t - u_j)/\\tau} \\right) \\\\\n",
      "&= \\dfrac{1}{\\tau^2} \\sum_{i=1}^{m}\\sum_{j=1}^{m} \\Theta(t - u_i)  \\Theta(t - u_j) \\exp(-(2t -u_i -u_j)/\\tau)\n",
      "\\end{align} "
     ]
    },
    {
     "cell_type": "heading",
     "level": 2,
     "metadata": {},
     "source": [
      "Integrating"
     ]
    },
    {
     "cell_type": "markdown",
     "metadata": {},
     "source": [
      "To integrate this term we want to order the sums so we can choose nice integration limits. So we can wirte the previous expression as,\n",
      "\\begin{equation}\n",
      "\\dfrac{1}{\\tau^2} \\sum_{i=1}^{m}\\sum_{j=1}^{i} \\Theta(t - u_i)  \\Theta(t - u_j) \\exp(-(2t -u_i -u_j)/\\tau),\n",
      "\\end{equation}\n",
      "this way we guarantee that $u_i \\ge u_j$ in each sub-term.\n",
      "\n",
      "To integrate this expression we can do the following,\n",
      "\\begin{align}\n",
      "&\\dfrac{1}{\\tau^2} \\sum_{i=1}^{m}\\sum_{j=1}^{i} \\int_{0}^{\\infty} \\Theta(t - u_i)  \\Theta(t - u_j) \\exp(-(2t -u_i -u_j)/\\tau) \n",
      "\\\\\n",
      "& = \\dfrac{1}{\\tau^2} \\sum_{i=1}^{m}\\sum_{j=1}^{i} \\int_{u_i}^{\\infty} \\exp(-(2t -u_i -u_j)/\\tau) \\\\\n",
      "& = \\dfrac{1}{\\tau^2} \\sum_{i=1}^{m}\\sum_{j=1}^{i} \\int_{u_i}^{\\infty} \\exp(-2t/\\tau) \\exp( u_i + u_j/\\tau) \\\\\n",
      "& = \\dfrac{1}{\\tau^2} \\sum_{i=1}^{m}\\sum_{j=1}^{i} -\\dfrac{\\tau}{2} \\exp( u_i + u_j/\\tau) \\left[\\exp(-2t/\\tau)\\right]_{u_i}^{\\infty}  \\\\\n",
      "& = \\dfrac{1}{\\tau^2} \\sum_{i=1}^{m}\\sum_{j=1}^{i} -\\dfrac{\\tau}{2} \\exp( u_i + u_j/\\tau) \\left[ - \\exp(-2u_i/\\tau)\\right]  \\\\\n",
      "& = \\dfrac{1}{\\tau^2} \\sum_{i=1}^{m}\\sum_{j=1}^{i} \\dfrac{\\tau}{2} \\exp( u_i + u_j/\\tau) \\exp(-2u_i/\\tau) \\\\\n",
      "& = \\dfrac{1}{\\tau^2} \\sum_{i=1}^{m}\\sum_{j=1}^{i} \\dfrac{\\tau}{2} \\exp( -(u_i - u_j)/\\tau)\\\\\n",
      "& = \\dfrac{1}{2\\tau} \\sum_{i=1}^{m}\\sum_{j=1}^{i} \\exp( -|u_i - u_j|/\\tau)\\\\\n",
      "& = \\dfrac{1}{2\\tau} \\sum_{i=1}^{m}\\sum_{j=1}^{m} \\exp( -|u_i - u_j|/\\tau)\n",
      "\\end{align}\n"
     ]
    },
    {
     "cell_type": "markdown",
     "metadata": {},
     "source": [
      "By using the absolute value in the last expression for the exponential, we are eliminating the need for explicitly ordering the $u_i$'s and $u_j$'s.\n",
      "\n",
      "The second term is completely equivalent to this, but for spike train $\\mathbf{v}$. And by using the absolute value in the exponential, we can effortlessly write down the last term:\n",
      "\\begin{equation}\n",
      "\\dfrac{1}{2\\tau} \\sum_{i=1}^{m}\\sum_{j=1}^{n} \\exp( -|u_i - v_j|/\\tau).\n",
      "\\end{equation}\n",
      "The main thing to be aware of is that each of the terms has a different number of sub-terms in the sums, the first one has $m^2$, the second $n^2$ and finally the third one has $m\\times n$.\n",
      "\n",
      "Therefore the final expression for the metric, when using the exponential kernel is,\n",
      "\\begin{equation}\n",
      "d(\\mathbf{u}, \\mathbf{v}) = \\dfrac{1}{2\\tau} \\left\\{ \\sum_{i=1}^{m}\\sum_{j=1}^{m} \\exp( -|u_i - u_j|/\\tau) + \\sum_{i=1}^{n}\\sum_{j=1}^{n} \\exp( -|u_i - u_j|/\\tau) - 2\\sum_{i=1}^{m}\\sum_{j=1}^{n} \\exp( -|u_i - v_j|/\\tau) \\right\\}\n",
      "\\end{equation}"
     ]
    },
    {
     "cell_type": "code",
     "collapsed": false,
     "input": [],
     "language": "python",
     "metadata": {},
     "outputs": []
    }
   ],
   "metadata": {}
  }
 ]
}