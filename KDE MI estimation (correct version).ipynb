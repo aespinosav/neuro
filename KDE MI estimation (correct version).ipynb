{
 "metadata": {
  "name": "",
  "signature": "sha256:fd43203c8112f590745e55538bca562641481be1f0acd573545ad7538aca2afe"
 },
 "nbformat": 3,
 "nbformat_minor": 0,
 "worksheets": [
  {
   "cells": [
    {
     "cell_type": "heading",
     "level": 1,
     "metadata": {},
     "source": [
      "KDE estimation of mutual information"
     ]
    },
    {
     "cell_type": "markdown",
     "metadata": {},
     "source": [
      "This ntoebook picks off from where the one with the mistake starts going wrong. That is, when we start applying our algorithm to the data.\n",
      "\n",
      "What we will do here is apply our algorithm to the data, but using a reduced set of experiments to make the calculations feasable for interactive exploration."
     ]
    },
    {
     "cell_type": "heading",
     "level": 2,
     "metadata": {},
     "source": [
      "Applying to data"
     ]
    },
    {
     "cell_type": "code",
     "collapsed": false,
     "input": [
      "from parsing import *\n",
      "from spike_train_object import *\n",
      "\n",
      "\n",
      "spike_times = np.loadtxt(\"./data/Sfly01508SpikeTimes.txt\")\n",
      "repeated_exp = split_into_runs(spike_times, 200, 1000)"
     ],
     "language": "python",
     "metadata": {},
     "outputs": [
      {
       "output_type": "stream",
       "stream": "stdout",
       "text": [
        "198 runs were found\n"
       ]
      }
     ],
     "prompt_number": 5
    },
    {
     "cell_type": "code",
     "collapsed": false,
     "input": [
      "import scipy as sci"
     ],
     "language": "python",
     "metadata": {},
     "outputs": [],
     "prompt_number": 6
    },
    {
     "cell_type": "markdown",
     "metadata": {},
     "source": [
      "We will only take 20 experiment runs for now. Later we will expand the number of runs, and see how our estimate of the entropy changes as we have a greater sample of data."
     ]
    },
    {
     "cell_type": "code",
     "collapsed": false,
     "input": [
      "repeated_exp = repeated_exp[:20]"
     ],
     "language": "python",
     "metadata": {},
     "outputs": [],
     "prompt_number": 8
    },
    {
     "cell_type": "code",
     "collapsed": false,
     "input": [
      "repeated_exp = [repeated_exp[i] - 5*i for i in range(len(repeated_exp))]"
     ],
     "language": "python",
     "metadata": {},
     "outputs": [],
     "prompt_number": 10
    },
    {
     "cell_type": "code",
     "collapsed": false,
     "input": [
      "more_splitting = np.array([split_into_runs(run, 20, 5) for run in repeated_exp])"
     ],
     "language": "python",
     "metadata": {},
     "outputs": [
      {
       "output_type": "stream",
       "stream": "stdout",
       "text": [
        "20 runs were found\n",
        "20 runs were found\n",
        "20 runs were found\n",
        "20 runs were found\n",
        "20 runs were found\n",
        "20 runs were found\n",
        "20 runs were found\n",
        "20 runs were found\n",
        "20 runs were found\n",
        "20 runs were found\n",
        "20 runs were found\n",
        "20 runs were found\n",
        "20 runs were found\n",
        "20 runs were found\n",
        "20 runs were found\n",
        "20 runs were found\n",
        "20 runs were found\n",
        "20 runs were found\n",
        "20 runs were found\n",
        "20 runs were found\n"
       ]
      }
     ],
     "prompt_number": 12
    },
    {
     "cell_type": "markdown",
     "metadata": {},
     "source": [
      "What we have done here is split each run into 20 smaller runs of 250ms each. The array called `more_splitting` is a list whose sub lists are the experiment runs divided into the 250ms stimulus"
     ]
    },
    {
     "cell_type": "code",
     "collapsed": false,
     "input": [
      "responses = [[SpikeTrain(e[i], 0.250*i, 0.250*i + 0.250 ) for i in range(len(e))] for e in more_splitting]"
     ],
     "language": "python",
     "metadata": {},
     "outputs": [],
     "prompt_number": 16
    },
    {
     "cell_type": "code",
     "collapsed": false,
     "input": [
      "responses = np.array(responses)"
     ],
     "language": "python",
     "metadata": {},
     "outputs": [],
     "prompt_number": 26
    },
    {
     "cell_type": "code",
     "collapsed": false,
     "input": [
      "def distance(s1, s2, tau=0.03):\n",
      "\n",
      "    term1 = np.array([[ -abs(s1[i] - s1[j])/tau  for i in range(len(s1))] for j in range(len(s1))]).flatten()\n",
      "    term2 = np.array([[ -abs(s2[i] - s2[j])/tau  for i in range(len(s2))] for j in range(len(s2))]).flatten()\n",
      "    term3 = np.array([[ -abs(s1[i] - s2[j])/tau  for i in range(len(s1))] for j in range(len(s2))]).flatten()\n",
      "    \n",
      "    term1 = np.exp(term1)\n",
      "    term2 = np.exp(term2)\n",
      "    term3 = np.exp(term3)\n",
      "    \n",
      "    d = (sum(term1) + sum(term2) -2*sum(term3))/(2*tau)\n",
      "    \n",
      "    return d"
     ],
     "language": "python",
     "metadata": {},
     "outputs": [],
     "prompt_number": 36
    },
    {
     "cell_type": "code",
     "collapsed": false,
     "input": [
      "def make_distance_matrix(spike_train_list, tau=0.03):\n",
      "    \"\"\"\n",
      "    Makes a distance matrix for the responses given \n",
      "    in spike_train_list.\n",
      "    \"\"\"\n",
      "    no_stim = len(spike_train_list)\n",
      "    \n",
      "    rows = [[distance(spike_train_list[j], spike_train_list[k], tau) \n",
      "             for k in range(j+1, no_stim)] for j in range(no_stim-1)]\n",
      "    \n",
      "    matrix = np.zeros(no_stim*no_stim).reshape(no_stim,no_stim)\n",
      "    for i in range(no_stim-1):\n",
      "        matrix[i,i+1:] = rows[i]\n",
      "\n",
      "    matrix += matrix.T\n",
      "    \n",
      "    return matrix"
     ],
     "language": "python",
     "metadata": {},
     "outputs": [],
     "prompt_number": 37
    },
    {
     "cell_type": "code",
     "collapsed": false,
     "input": [
      "def make_true_false_matrix(spike_train_list):\n",
      "    \"\"\"\n",
      "    Makes a true or false matrix for whether responses belong to the same stimulus.\n",
      "    \n",
      "    I am doing this to avoid mistakes with how flatten works.\n",
      "    \"\"\"\n",
      "    TF = np.zeros(len(spike_train_list)**2).reshape(len(spike_train_list),len(spike_train_list))\n",
      "    \n",
      "    for i in range(len(spike_train_list)):\n",
      "        for j in range(len(spike_train_list)):\n",
      "            if (spike_train_list[i].start_time == spike_train_list[j].start_time):\n",
      "                TF[i,j] = 1\n",
      "    \n",
      "    return TF"
     ],
     "language": "python",
     "metadata": {},
     "outputs": [],
     "prompt_number": 54
    },
    {
     "cell_type": "code",
     "collapsed": false,
     "input": [
      "%time DM = make_distance_matrix(responses.flatten())"
     ],
     "language": "python",
     "metadata": {},
     "outputs": [
      {
       "output_type": "stream",
       "stream": "stdout",
       "text": [
        "CPU times: user 5min 8s, sys: 38.9 ms, total: 5min 8s\n",
        "Wall time: 5min 7s\n"
       ]
      }
     ],
     "prompt_number": 42
    },
    {
     "cell_type": "code",
     "collapsed": false,
     "input": [
      "np.shape(DM)"
     ],
     "language": "python",
     "metadata": {},
     "outputs": [
      {
       "metadata": {},
       "output_type": "pyout",
       "prompt_number": 43,
       "text": [
        "(400, 400)"
       ]
      }
     ],
     "prompt_number": 43
    },
    {
     "cell_type": "code",
     "collapsed": false,
     "input": [
      "DM"
     ],
     "language": "python",
     "metadata": {},
     "outputs": [
      {
       "metadata": {},
       "output_type": "pyout",
       "prompt_number": 44,
       "text": [
        "array([[    0.        ,  8850.20085998,  9523.52614991, ...,\n",
        "         6012.43197325,  6721.08946205,  6066.71410607],\n",
        "       [ 8850.20085998,     0.        ,  9172.14397638, ...,\n",
        "         5917.72410174,  6626.38159054,  5972.00623456],\n",
        "       [ 9523.52614991,  9172.14397638,     0.        , ...,\n",
        "         5773.69864479,  6482.3561336 ,  5827.98077762],\n",
        "       ..., \n",
        "       [ 6012.43197325,  5917.72410174,  5773.69864479, ...,\n",
        "            0.        ,  2959.55698825,  2316.70776042],\n",
        "       [ 6721.08946205,  6626.38159054,  6482.3561336 , ...,\n",
        "         2959.55698825,     0.        ,  2887.60931498],\n",
        "       [ 6066.71410607,  5972.00623456,  5827.98077762, ...,\n",
        "         2316.70776042,  2887.60931498,     0.        ]])"
       ]
      }
     ],
     "prompt_number": 44
    },
    {
     "cell_type": "code",
     "collapsed": false,
     "input": [
      "TF = make_true_false_matrix(responses.flatten())"
     ],
     "language": "python",
     "metadata": {},
     "outputs": [],
     "prompt_number": 55
    },
    {
     "cell_type": "code",
     "collapsed": false,
     "input": [
      "TF[0]"
     ],
     "language": "python",
     "metadata": {},
     "outputs": [
      {
       "metadata": {},
       "output_type": "pyout",
       "prompt_number": 59,
       "text": [
        "array([ 1.,  0.,  0.,  0.,  0.,  0.,  0.,  0.,  0.,  0.,  0.,  0.,  0.,\n",
        "        0.,  0.,  0.,  0.,  0.,  0.,  0.,  1.,  0.,  0.,  0.,  0.,  0.,\n",
        "        0.,  0.,  0.,  0.,  0.,  0.,  0.,  0.,  0.,  0.,  0.,  0.,  0.,\n",
        "        0.,  1.,  0.,  0.,  0.,  0.,  0.,  0.,  0.,  0.,  0.,  0.,  0.,\n",
        "        0.,  0.,  0.,  0.,  0.,  0.,  0.,  0.,  1.,  0.,  0.,  0.,  0.,\n",
        "        0.,  0.,  0.,  0.,  0.,  0.,  0.,  0.,  0.,  0.,  0.,  0.,  0.,\n",
        "        0.,  0.,  1.,  0.,  0.,  0.,  0.,  0.,  0.,  0.,  0.,  0.,  0.,\n",
        "        0.,  0.,  0.,  0.,  0.,  0.,  0.,  0.,  0.,  1.,  0.,  0.,  0.,\n",
        "        0.,  0.,  0.,  0.,  0.,  0.,  0.,  0.,  0.,  0.,  0.,  0.,  0.,\n",
        "        0.,  0.,  0.,  1.,  0.,  0.,  0.,  0.,  0.,  0.,  0.,  0.,  0.,\n",
        "        0.,  0.,  0.,  0.,  0.,  0.,  0.,  0.,  0.,  0.,  1.,  0.,  0.,\n",
        "        0.,  0.,  0.,  0.,  0.,  0.,  0.,  0.,  0.,  0.,  0.,  0.,  0.,\n",
        "        0.,  0.,  0.,  0.,  1.,  0.,  0.,  0.,  0.,  0.,  0.,  0.,  0.,\n",
        "        0.,  0.,  0.,  0.,  0.,  0.,  0.,  0.,  0.,  0.,  0.,  1.,  0.,\n",
        "        0.,  0.,  0.,  0.,  0.,  0.,  0.,  0.,  0.,  0.,  0.,  0.,  0.,\n",
        "        0.,  0.,  0.,  0.,  0.,  1.,  0.,  0.,  0.,  0.,  0.,  0.,  0.,\n",
        "        0.,  0.,  0.,  0.,  0.,  0.,  0.,  0.,  0.,  0.,  0.,  0.,  1.,\n",
        "        0.,  0.,  0.,  0.,  0.,  0.,  0.,  0.,  0.,  0.,  0.,  0.,  0.,\n",
        "        0.,  0.,  0.,  0.,  0.,  0.,  1.,  0.,  0.,  0.,  0.,  0.,  0.,\n",
        "        0.,  0.,  0.,  0.,  0.,  0.,  0.,  0.,  0.,  0.,  0.,  0.,  0.,\n",
        "        1.,  0.,  0.,  0.,  0.,  0.,  0.,  0.,  0.,  0.,  0.,  0.,  0.,\n",
        "        0.,  0.,  0.,  0.,  0.,  0.,  0.,  1.,  0.,  0.,  0.,  0.,  0.,\n",
        "        0.,  0.,  0.,  0.,  0.,  0.,  0.,  0.,  0.,  0.,  0.,  0.,  0.,\n",
        "        0.,  1.,  0.,  0.,  0.,  0.,  0.,  0.,  0.,  0.,  0.,  0.,  0.,\n",
        "        0.,  0.,  0.,  0.,  0.,  0.,  0.,  0.,  1.,  0.,  0.,  0.,  0.,\n",
        "        0.,  0.,  0.,  0.,  0.,  0.,  0.,  0.,  0.,  0.,  0.,  0.,  0.,\n",
        "        0.,  0.,  1.,  0.,  0.,  0.,  0.,  0.,  0.,  0.,  0.,  0.,  0.,\n",
        "        0.,  0.,  0.,  0.,  0.,  0.,  0.,  0.,  0.,  1.,  0.,  0.,  0.,\n",
        "        0.,  0.,  0.,  0.,  0.,  0.,  0.,  0.,  0.,  0.,  0.,  0.,  0.,\n",
        "        0.,  0.,  0.,  1.,  0.,  0.,  0.,  0.,  0.,  0.,  0.,  0.,  0.,\n",
        "        0.,  0.,  0.,  0.,  0.,  0.,  0.,  0.,  0.,  0.])"
       ]
      }
     ],
     "prompt_number": 59
    },
    {
     "cell_type": "code",
     "collapsed": false,
     "input": [
      "split_into_runs?"
     ],
     "language": "python",
     "metadata": {},
     "outputs": [],
     "prompt_number": 60
    },
    {
     "cell_type": "code",
     "collapsed": false,
     "input": [],
     "language": "python",
     "metadata": {},
     "outputs": []
    }
   ],
   "metadata": {}
  }
 ]
}